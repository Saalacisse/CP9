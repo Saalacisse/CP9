{
 "cells": [
  {
   "cell_type": "markdown",
   "id": "4780a08f",
   "metadata": {},
   "source": [
    "### 1. Write a Python program to read an entire text file. "
   ]
  },
  {
   "cell_type": "code",
   "execution_count": 1,
   "id": "6b0e705f",
   "metadata": {},
   "outputs": [],
   "source": [
    "f=open(\"python.txt\")"
   ]
  },
  {
   "cell_type": "markdown",
   "id": "01897423",
   "metadata": {},
   "source": [
    "### 2. Write a Python program to read the first n lines of a file. "
   ]
  },
  {
   "cell_type": "code",
   "execution_count": 6,
   "id": "455dfeab",
   "metadata": {},
   "outputs": [
    {
     "name": "stdout",
     "output_type": "stream",
     "text": [
      "Entrer les lignes à lire : 5\n",
      "at is Python language?                                                \n",
      "\n",
      "Python is a widely used high-level, general-purpose, interpreted, dynamic programming language.Its design philosophy emphasizes code readability, and its syntax allows programmers to express concepts in fewer lines of code than possible in \n",
      "\n",
      "languages such as C++ or Java. \n",
      "\n",
      "Python supports multiple programming paradigms, including object-oriented, imperative and functional programming or procedural styles. It features a dynamic type system and automatic memory management and has a large and comprehensive standard library.The best way we learn anything is by practice and exercise questions. We  have started this section for those (beginner to intermediate) who are familiar with Python.\n",
      "\n"
     ]
    }
   ],
   "source": [
    "Lire = int(input(\"Entrer les lignes à lire : \"))\n",
    "for i in range (Lire):\n",
    "    line = f.readline()\n",
    "    print (line)"
   ]
  },
  {
   "cell_type": "markdown",
   "id": "5fe9570e",
   "metadata": {},
   "source": [
    "### 3. Write a Python program to read the last n lines of a file. "
   ]
  },
  {
   "cell_type": "code",
   "execution_count": null,
   "id": "ac2d14f9",
   "metadata": {},
   "outputs": [],
   "source": [
    "Lire1 = int(input(\"Entrer les dernières lignes à lire : \"))\n",
    "for i in range (Lire1):\n",
    "    last_lines = f.readline\n",
    "    return last_lines[-n]\n",
    "print(last_lines(\"python.txt\",2))"
   ]
  },
  {
   "cell_type": "code",
   "execution_count": 21,
   "id": "93b0813e",
   "metadata": {},
   "outputs": [
    {
     "name": "stdout",
     "output_type": "stream",
     "text": [
      "Entrer les dernières lignes à lire: 2\n"
     ]
    }
   ],
   "source": [
    "n = int(input(\"Entrer les dernières lignes à lire: \"))"
   ]
  },
  {
   "cell_type": "code",
   "execution_count": 22,
   "id": "a10ecc3f",
   "metadata": {},
   "outputs": [
    {
     "name": "stdout",
     "output_type": "stream",
     "text": [
      "Entrer le nom du fichier: python.txt\n"
     ]
    }
   ],
   "source": [
    "filename = input(\"Entrer le nom du fichier: \")"
   ]
  },
  {
   "cell_type": "code",
   "execution_count": 24,
   "id": "3961bd2c",
   "metadata": {},
   "outputs": [
    {
     "name": "stdout",
     "output_type": "stream",
     "text": [
      "languages such as C++ or Java. \n",
      "Python supports multiple programming paradigms, including object-oriented, imperative and functional programming or procedural styles. It features a dynamic type system and automatic memory management and has a large and comprehensive standard library.The best way we learn anything is by practice and exercise questions. We  have started this section for those (beginner to intermediate) who are familiar with Python."
     ]
    }
   ],
   "source": [
    "with open(filename) as f:\n",
    "    lines = f.readlines()\n",
    "    last_n_lines = lines[-n:]\n",
    "    \n",
    "for line in last_n_lines:\n",
    "    print(line, end=\"\")"
   ]
  },
  {
   "cell_type": "markdown",
   "id": "644b862d",
   "metadata": {},
   "source": [
    "### 4. Write a Python program that takes a text file as input and returns the number of words of a given text file. "
   ]
  },
  {
   "cell_type": "code",
   "execution_count": 27,
   "id": "8756c987",
   "metadata": {},
   "outputs": [
    {
     "name": "stdout",
     "output_type": "stream",
     "text": [
      "Entrer le nom du fichier : python.txt\n"
     ]
    },
    {
     "ename": "AttributeError",
     "evalue": "'str' object has no attribute 'read'",
     "output_type": "error",
     "traceback": [
      "\u001b[1;31m---------------------------------------------------------------------------\u001b[0m",
      "\u001b[1;31mAttributeError\u001b[0m                            Traceback (most recent call last)",
      "\u001b[1;32m~\\AppData\\Local\\Temp\\ipykernel_2244\\9369605.py\u001b[0m in \u001b[0;36m<module>\u001b[1;34m\u001b[0m\n\u001b[0;32m      1\u001b[0m \u001b[0mfichier\u001b[0m \u001b[1;33m=\u001b[0m \u001b[0minput\u001b[0m\u001b[1;33m(\u001b[0m\u001b[1;34m\"Entrer le nom du fichier : \"\u001b[0m\u001b[1;33m)\u001b[0m\u001b[1;33m\u001b[0m\u001b[1;33m\u001b[0m\u001b[0m\n\u001b[1;32m----> 2\u001b[1;33m \u001b[0mcontenu\u001b[0m \u001b[1;33m=\u001b[0m \u001b[0mfichier\u001b[0m\u001b[1;33m.\u001b[0m\u001b[0mread\u001b[0m\u001b[1;33m(\u001b[0m\u001b[1;33m)\u001b[0m\u001b[1;33m\u001b[0m\u001b[1;33m\u001b[0m\u001b[0m\n\u001b[0m\u001b[0;32m      3\u001b[0m \u001b[0mmots\u001b[0m \u001b[1;33m=\u001b[0m \u001b[0mcontenu\u001b[0m\u001b[1;33m.\u001b[0m\u001b[0msplit\u001b[0m\u001b[1;33m(\u001b[0m\u001b[1;33m)\u001b[0m\u001b[1;33m\u001b[0m\u001b[1;33m\u001b[0m\u001b[0m\n\u001b[0;32m      4\u001b[0m \u001b[0mprint\u001b[0m\u001b[1;33m(\u001b[0m\u001b[1;34m\"Le nombre de mots dans le fichier est:\"\u001b[0m\u001b[1;33m,\u001b[0m \u001b[0mlen\u001b[0m\u001b[1;33m(\u001b[0m\u001b[0mmots\u001b[0m\u001b[1;33m)\u001b[0m\u001b[1;33m)\u001b[0m\u001b[1;33m\u001b[0m\u001b[1;33m\u001b[0m\u001b[0m\n",
      "\u001b[1;31mAttributeError\u001b[0m: 'str' object has no attribute 'read'"
     ]
    }
   ],
   "source": [
    "fichier = input(\"Entrer le nom du fichier : \")\n",
    "contenu = fichier.read() \n",
    "mots = contenu.split() \n",
    "print(\"Le nombre de mots dans le fichier est:\", len(mots))"
   ]
  },
  {
   "cell_type": "code",
   "execution_count": null,
   "id": "8ccb5b53",
   "metadata": {},
   "outputs": [],
   "source": []
  }
 ],
 "metadata": {
  "kernelspec": {
   "display_name": "Python 3 (ipykernel)",
   "language": "python",
   "name": "python3"
  },
  "language_info": {
   "codemirror_mode": {
    "name": "ipython",
    "version": 3
   },
   "file_extension": ".py",
   "mimetype": "text/x-python",
   "name": "python",
   "nbconvert_exporter": "python",
   "pygments_lexer": "ipython3",
   "version": "3.9.13"
  }
 },
 "nbformat": 4,
 "nbformat_minor": 5
}
